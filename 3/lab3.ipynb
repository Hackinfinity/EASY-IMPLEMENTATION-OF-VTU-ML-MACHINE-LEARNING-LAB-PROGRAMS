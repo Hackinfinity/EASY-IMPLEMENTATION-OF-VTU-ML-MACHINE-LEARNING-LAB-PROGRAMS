{
 "cells": [
  {
   "cell_type": "markdown",
   "metadata": {},
   "source": [
    "# Lab-3 ID3"
   ]
  },
  {
   "cell_type": "code",
   "execution_count": 10,
   "metadata": {},
   "outputs": [
    {
     "name": "stderr",
     "output_type": "stream",
     "text": [
      "C:\\ProgramData\\Anaconda3\\lib\\site-packages\\ipykernel_launcher.py:3: FutureWarning: from_csv is deprecated. Please use read_csv(...) instead. Note that some of the default arguments are different, so please refer to the documentation for from_csv when changing your function calls\n",
      "  This is separate from the ipykernel package so we can avoid doing imports until\n"
     ]
    }
   ],
   "source": [
    "import pandas as pd\n",
    "from pandas import DataFrame\n",
    "df_tennis=DataFrame.from_csv('lab3.csv')"
   ]
  },
  {
   "cell_type": "code",
   "execution_count": 11,
   "metadata": {},
   "outputs": [],
   "source": [
    "attribute_names=list(df_tennis.columns)\n",
    "attribute_names.remove('play')"
   ]
  },
  {
   "cell_type": "code",
   "execution_count": 12,
   "metadata": {},
   "outputs": [],
   "source": [
    "def entropy_of_list(a_list):\n",
    "    from collections import Counter\n",
    "    cnt=Counter(x for x in a_list)\n",
    "    num_instances=len(a_list)*1.0\n",
    "    probs=[x/num_instances for x in cnt.values()]\n",
    "    return entropy(probs)"
   ]
  },
  {
   "cell_type": "code",
   "execution_count": 13,
   "metadata": {},
   "outputs": [],
   "source": [
    "def entropy(probs):\n",
    "    import math\n",
    "    return sum([-prob*math.log(prob,2) for prob in probs])"
   ]
  },
  {
   "cell_type": "code",
   "execution_count": 14,
   "metadata": {},
   "outputs": [],
   "source": [
    "total_entropy=entropy_of_list(df_tennis['play'])"
   ]
  },
  {
   "cell_type": "markdown",
   "metadata": {},
   "source": [
    "total_entropy=entropy_of_list(df_tennis['play'])\n",
    "print(\"\\nEntropy of given PlayTennis Data set:\",total_entropy)"
   ]
  },
  {
   "cell_type": "code",
   "execution_count": 15,
   "metadata": {},
   "outputs": [],
   "source": [
    "def information_gain(df,split_attribute_name,target_attribute_name,trace=0):\n",
    "    df_split=df.groupby(split_attribute_name)\n",
    "    nobs=len(df.index)*1.0\n",
    "    df_agg_ent=df_split.agg({target_attribute_name:[entropy_of_list,lambda x:len(x)/nobs]})\n",
    "    df_agg_ent.columns=['Entropy','propobservations']\n",
    "    new_entropy=sum(df_agg_ent['Entropy']*df_agg_ent['propobservations'])\n",
    "    old_entropy=entropy_of_list(df[target_attribute_name])\n",
    "    return old_entropy-new_entropy"
   ]
  },
  {
   "cell_type": "code",
   "execution_count": 16,
   "metadata": {},
   "outputs": [],
   "source": [
    "def id3(df,target_attribute_name,attribute_names,default_class=None):\n",
    "    from collections import Counter\n",
    "    cut=Counter(x for x in df[target_attribute_name])\n",
    "    if len(cut)==1:\n",
    "        return next(iter(cut))\n",
    "    elif df.empty or (not attribute_names):\n",
    "        return default_class\n",
    "    else:\n",
    "        default_class=max(cut.keys())\n",
    "        gainz=[information_gain(df,attr,target_attribute_name) for attr in attribute_names]\n",
    "        index_of_max=gainz.index(max(gainz))\n",
    "        best_attr=attribute_names[index_of_max]\n",
    "        tree={best_attr:{}}\n",
    "        remaining_attribute_names=[i for i in attribute_names if i!=best_attr]\n",
    "        for attr_val,data_subset in df.groupby(best_attr):\n",
    "            subtree=id3(data_subset,target_attribute_name,remaining_attribute_names,default_class)\n",
    "            tree[best_attr][attr_val]=subtree\n",
    "    return tree"
   ]
  },
  {
   "cell_type": "code",
   "execution_count": 17,
   "metadata": {},
   "outputs": [
    {
     "name": "stdout",
     "output_type": "stream",
     "text": [
      "\n",
      "\n",
      " The Resultant Decission Tree is:\n",
      "\n",
      "{'outlook': {'overcast': 'yes',\n",
      "             'rain': {'wind': {'strong ': 'no', 'weak': 'yes'}},\n",
      "             'sunny': {'humidity': {'high': 'no', 'normal': 'yes'}}}}\n"
     ]
    }
   ],
   "source": [
    "from pprint import pprint\n",
    "tree=id3(df_tennis,'play',attribute_names)\n",
    "print(\"\\n\\n The Resultant Decission Tree is:\\n\")\n",
    "pprint(tree)"
   ]
  },
  {
   "cell_type": "code",
   "execution_count": null,
   "metadata": {},
   "outputs": [],
   "source": []
  },
  {
   "cell_type": "code",
   "execution_count": null,
   "metadata": {},
   "outputs": [],
   "source": []
  }
 ],
 "metadata": {
  "kernelspec": {
   "display_name": "Python 3",
   "language": "python",
   "name": "python3"
  },
  "language_info": {
   "codemirror_mode": {
    "name": "ipython",
    "version": 3
   },
   "file_extension": ".py",
   "mimetype": "text/x-python",
   "name": "python",
   "nbconvert_exporter": "python",
   "pygments_lexer": "ipython3",
   "version": "3.6.5"
  }
 },
 "nbformat": 4,
 "nbformat_minor": 2
}
