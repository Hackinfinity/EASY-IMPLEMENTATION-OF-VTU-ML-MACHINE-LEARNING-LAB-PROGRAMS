{
 "cells": [
  {
   "cell_type": "code",
   "execution_count": 1,
   "metadata": {},
   "outputs": [],
   "source": [
    "from sklearn.datasets import load_iris\n",
    "from sklearn.neighbors import KNeighborsClassifier\n",
    "from sklearn.model_selection import train_test_split\n",
    "import numpy as np"
   ]
  },
  {
   "cell_type": "code",
   "execution_count": 2,
   "metadata": {},
   "outputs": [],
   "source": [
    "iris_dataset=load_iris()\n"
   ]
  },
  {
   "cell_type": "code",
   "execution_count": 3,
   "metadata": {},
   "outputs": [],
   "source": [
    "X_train, X_test, y_train, y_test = train_test_split(iris_dataset[\"data\"],iris_dataset[\"target\"])\n"
   ]
  },
  {
   "cell_type": "code",
   "execution_count": 4,
   "metadata": {},
   "outputs": [
    {
     "data": {
      "text/plain": [
       "KNeighborsClassifier(algorithm='auto', leaf_size=30, metric='minkowski',\n",
       "           metric_params=None, n_jobs=1, n_neighbors=5, p=2,\n",
       "           weights='uniform')"
      ]
     },
     "execution_count": 4,
     "metadata": {},
     "output_type": "execute_result"
    }
   ],
   "source": [
    "kn = KNeighborsClassifier()\n",
    "kn.fit(X_train, y_train)"
   ]
  },
  {
   "cell_type": "code",
   "execution_count": 6,
   "metadata": {},
   "outputs": [],
   "source": [
    "prediction = kn.predict(X_test)"
   ]
  },
  {
   "cell_type": "code",
   "execution_count": 7,
   "metadata": {},
   "outputs": [
    {
     "name": "stdout",
     "output_type": "stream",
     "text": [
      "ACCURACY :- 0.9473684210526315\n"
     ]
    }
   ],
   "source": [
    "print(\"ACCURACY :- \" +str(kn.score(X_test, y_test)))\n",
    "target_names = iris_dataset.target_names"
   ]
  },
  {
   "cell_type": "code",
   "execution_count": 8,
   "metadata": {},
   "outputs": [
    {
     "name": "stdout",
     "output_type": "stream",
     "text": [
      "Prediction is setosaActual is setosa\n",
      "Prediction is versicolorActual is versicolor\n",
      "Prediction is setosaActual is setosa\n",
      "Prediction is virginicaActual is virginica\n",
      "Prediction is versicolorActual is versicolor\n",
      "Prediction is versicolorActual is versicolor\n",
      "Prediction is versicolorActual is versicolor\n",
      "Prediction is virginicaActual is virginica\n",
      "Prediction is setosaActual is setosa\n",
      "Prediction is virginicaActual is virginica\n",
      "Prediction is setosaActual is setosa\n",
      "Prediction is virginicaActual is virginica\n",
      "Prediction is virginicaActual is virginica\n",
      "Prediction is setosaActual is setosa\n",
      "Prediction is virginicaActual is virginica\n",
      "Prediction is versicolorActual is versicolor\n",
      "Prediction is virginicaActual is virginica\n",
      "Prediction is setosaActual is setosa\n",
      "Prediction is setosaActual is setosa\n",
      "Prediction is setosaActual is setosa\n",
      "Prediction is virginicaActual is versicolor\n",
      "Prediction is virginicaActual is versicolor\n",
      "Prediction is virginicaActual is virginica\n",
      "Prediction is virginicaActual is virginica\n",
      "Prediction is setosaActual is setosa\n",
      "Prediction is virginicaActual is virginica\n",
      "Prediction is versicolorActual is versicolor\n",
      "Prediction is setosaActual is setosa\n",
      "Prediction is setosaActual is setosa\n",
      "Prediction is setosaActual is setosa\n",
      "Prediction is versicolorActual is versicolor\n",
      "Prediction is virginicaActual is virginica\n",
      "Prediction is setosaActual is setosa\n",
      "Prediction is setosaActual is setosa\n",
      "Prediction is setosaActual is setosa\n",
      "Prediction is virginicaActual is virginica\n",
      "Prediction is versicolorActual is versicolor\n",
      "Prediction is setosaActual is setosa\n"
     ]
    }
   ],
   "source": [
    "for pred,actual in zip(prediction,y_test):\n",
    "\tprint(\"Prediction is \" + str(target_names[pred]) + \"Actual is \" + str(target_names[actual]))"
   ]
  },
  {
   "cell_type": "code",
   "execution_count": null,
   "metadata": {},
   "outputs": [],
   "source": []
  }
 ],
 "metadata": {
  "kernelspec": {
   "display_name": "Python 3",
   "language": "python",
   "name": "python3"
  },
  "language_info": {
   "codemirror_mode": {
    "name": "ipython",
    "version": 3
   },
   "file_extension": ".py",
   "mimetype": "text/x-python",
   "name": "python",
   "nbconvert_exporter": "python",
   "pygments_lexer": "ipython3",
   "version": "3.6.5"
  }
 },
 "nbformat": 4,
 "nbformat_minor": 2
}
