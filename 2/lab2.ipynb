{
 "cells": [
  {
   "cell_type": "markdown",
   "metadata": {},
   "source": [
    "# LAB PGM2"
   ]
  },
  {
   "cell_type": "code",
   "execution_count": 1,
   "metadata": {},
   "outputs": [],
   "source": [
    "import csv"
   ]
  },
  {
   "cell_type": "code",
   "execution_count": 2,
   "metadata": {},
   "outputs": [],
   "source": [
    "with open('lab2.csv','r')as csvFile:\n",
    "    examples=[tuple(line) for line in csv.reader(csvFile)]\n"
   ]
  },
  {
   "cell_type": "code",
   "execution_count": 3,
   "metadata": {},
   "outputs": [
    {
     "data": {
      "text/plain": [
       "[['rainy', 'sunny'],\n",
       " ['cold', 'warm'],\n",
       " ['high', 'normal'],\n",
       " ['strong'],\n",
       " ['cool', 'warm'],\n",
       " ['change', 'same'],\n",
       " ['no', 'yes']]"
      ]
     },
     "execution_count": 3,
     "metadata": {},
     "output_type": "execute_result"
    }
   ],
   "source": [
    "def get_domains(examples):\n",
    "    d=[set() for i in examples[0]]\n",
    "    for x in examples:\n",
    "        for i,xi in enumerate(x):\n",
    "            d[i].add(xi)\n",
    "    return([list(sorted(x)) for x in d])\n",
    "get_domains(examples)"
   ]
  },
  {
   "cell_type": "code",
   "execution_count": 4,
   "metadata": {},
   "outputs": [],
   "source": [
    "def g_0(n):\n",
    "    return(\"?\",) * n"
   ]
  },
  {
   "cell_type": "code",
   "execution_count": 5,
   "metadata": {},
   "outputs": [],
   "source": [
    "def s_0(n):\n",
    "    return('0',)*n"
   ]
  },
  {
   "cell_type": "code",
   "execution_count": 6,
   "metadata": {},
   "outputs": [],
   "source": [
    "def more_general(h1,h2):\n",
    "    more_general_parts=[]\n",
    "    for x,y in zip(h1,h2):\n",
    "        mg=x==\"?\" or (x!=\"0\" and (x==y or y==\"0\"))\n",
    "        more_general_parts.append(mg)\n",
    "    return all(more_general_parts)"
   ]
  },
  {
   "cell_type": "code",
   "execution_count": 7,
   "metadata": {},
   "outputs": [],
   "source": [
    "def fulfills(example, hypothesis):\n",
    "    return more_general(hypothesis, example)"
   ]
  },
  {
   "cell_type": "code",
   "execution_count": 8,
   "metadata": {},
   "outputs": [],
   "source": [
    "def min_generalizations(h, x): \n",
    "    h_new = list(h) \n",
    "    for i in range(len(h)): \n",
    "        if not fulfills(x[i:i+1], h[i:i+1]): \n",
    "            h_new[i] = '?' if h[i] != '0' else x[i] \n",
    "    return [tuple(h_new)]"
   ]
  },
  {
   "cell_type": "code",
   "execution_count": 9,
   "metadata": {},
   "outputs": [],
   "source": [
    "def min_specializations(h, domains, x): \n",
    "    results = [] \n",
    "    for i in range(len(h)): \n",
    "        if h[i] == \"?\": \n",
    "            for val in domains[i]: \n",
    "                if x[i] != val: \n",
    "                    h_new = h[:i] + (val,) + h[i+1:] \n",
    "                    results.append(h_new) \n",
    "                elif h[i] != \"0\": \n",
    "                    h_new = h[:i] + ('0',) + h[i+1:] \n",
    "                    results.append(h_new) \n",
    "    return results"
   ]
  },
  {
   "cell_type": "code",
   "execution_count": 10,
   "metadata": {},
   "outputs": [],
   "source": [
    "def generalize_S(x, G, S): \n",
    "    S_prev = list(S) \n",
    "    for s in S_prev: \n",
    "        if s not in S: \n",
    "            continue \n",
    "        if not fulfills(x, s): \n",
    "            S.remove(s) \n",
    "            Splus = min_generalizations(s, x) \n",
    "            S.update([h for h in Splus if any([more_general(g,h) for g in G])]) \n",
    "            S.difference_update([h for h in S if any([more_general(h, h1) for h1 in S if h != h1])]) \n",
    "    return S"
   ]
  },
  {
   "cell_type": "code",
   "execution_count": 11,
   "metadata": {},
   "outputs": [],
   "source": [
    "def specialize_G(x, domains, G, S): \n",
    "    G_prev = list(G) \n",
    "    for g in G_prev: \n",
    "        if g not in G: \n",
    "            continue \n",
    "        if fulfills(x, g): \n",
    "            G.remove(g) \n",
    "            Gminus = min_specializations(g, domains, x) \n",
    "            G.update([h for h in Gminus if any([more_general(h, s) for s in S])]) \n",
    "            G.difference_update([h for h in G if any([more_general(g1, h) for g1 in G if h != g1])]) \n",
    "    return G"
   ]
  },
  {
   "cell_type": "code",
   "execution_count": 12,
   "metadata": {},
   "outputs": [
    {
     "name": "stdout",
     "output_type": "stream",
     "text": [
      "\n",
      " G[0]: {('?', '?', '?', '?', '?', '?')}\n",
      "\n",
      " S[0]: {('0', '0', '0', '0', '0', '0')}\n",
      "\n",
      " G[1]: {('?', '?', '?', '?', '?', '?')}\n",
      "\n",
      " S[1]: {('sunny', 'warm', 'normal', 'strong', 'warm', 'same')}\n",
      "\n",
      " G[2]: {('?', '?', '?', '?', '?', '?')}\n",
      "\n",
      " S[2]: {('sunny', 'warm', '?', 'strong', 'warm', 'same')}\n",
      "\n",
      " G[3]: {('?', '?', '?', '?', '?', 'same'), ('?', 'warm', '?', '?', '?', '?'), ('sunny', '?', '?', '?', '?', '?')}\n",
      "\n",
      " S[3]: {('sunny', 'warm', '?', 'strong', 'warm', 'same')}\n",
      "\n",
      " G[4]: {('?', 'warm', '?', '?', '?', '?'), ('sunny', '?', '?', '?', '?', '?')}\n",
      "\n",
      " S[4]: {('sunny', 'warm', '?', 'strong', '?', '?')}\n"
     ]
    }
   ],
   "source": [
    "def candidate_elimination(examples):\n",
    "    domains = get_domains(examples)[:-1]\n",
    "    G = set([g_0(len(domains))])\n",
    "    S = set([s_0(len(domains))])\n",
    "    i = 0\n",
    "    print(\"\\n G[{0}]:\".format(i), G)\n",
    "    print(\"\\n S[{0}]:\".format(i), S)\n",
    "    for xcx in examples:\n",
    "        i=i+1\n",
    "        x, cx = xcx[:-1], xcx[-1] \n",
    "        if cx =='yes': \n",
    "            G = {g for g in G if fulfills(x, g)}\n",
    "            S = generalize_S(x, G, S)\n",
    "        else: \n",
    "            S = {s for s in S if not fulfills(x, s)}\n",
    "            G = specialize_G(x, domains, G, S)\n",
    "        print(\"\\n G[{0}]:\".format(i),G)\n",
    "        print(\"\\n S[{0}]:\".format(i),S)\n",
    "\n",
    "\n",
    "candidate_elimination(examples)"
   ]
  },
  {
   "cell_type": "code",
   "execution_count": null,
   "metadata": {},
   "outputs": [],
   "source": []
  },
  {
   "cell_type": "code",
   "execution_count": null,
   "metadata": {},
   "outputs": [],
   "source": []
  }
 ],
 "metadata": {
  "kernelspec": {
   "display_name": "Python 3",
   "language": "python",
   "name": "python3"
  },
  "language_info": {
   "codemirror_mode": {
    "name": "ipython",
    "version": 3
   },
   "file_extension": ".py",
   "mimetype": "text/x-python",
   "name": "python",
   "nbconvert_exporter": "python",
   "pygments_lexer": "ipython3",
   "version": "3.6.5"
  }
 },
 "nbformat": 4,
 "nbformat_minor": 2
}
