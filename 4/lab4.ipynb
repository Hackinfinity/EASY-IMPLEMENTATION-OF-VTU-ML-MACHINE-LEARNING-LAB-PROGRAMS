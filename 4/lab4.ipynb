{
 "cells": [
  {
   "cell_type": "code",
   "execution_count": 1,
   "metadata": {},
   "outputs": [],
   "source": [
    "import numpy as np"
   ]
  },
  {
   "cell_type": "code",
   "execution_count": 2,
   "metadata": {},
   "outputs": [],
   "source": [
    "X = np.array(([2, 9], [1, 5], [3, 6]), dtype=float)"
   ]
  },
  {
   "cell_type": "code",
   "execution_count": 3,
   "metadata": {},
   "outputs": [],
   "source": [
    "y = np.array(([92], [86], [89]), dtype=float)"
   ]
  },
  {
   "cell_type": "code",
   "execution_count": 4,
   "metadata": {},
   "outputs": [],
   "source": [
    "X = X/np.amax(X, axis=0)"
   ]
  },
  {
   "cell_type": "code",
   "execution_count": 5,
   "metadata": {},
   "outputs": [],
   "source": [
    "y = y / 100"
   ]
  },
  {
   "cell_type": "code",
   "execution_count": 6,
   "metadata": {},
   "outputs": [],
   "source": [
    "def sigmoid(x):\n",
    "    return 1/(1 + np.exp(-x))"
   ]
  },
  {
   "cell_type": "code",
   "execution_count": 7,
   "metadata": {},
   "outputs": [],
   "source": [
    "def derivatives_sigmoid(x):\n",
    "    return x * (1 - x)"
   ]
  },
  {
   "cell_type": "code",
   "execution_count": 8,
   "metadata": {},
   "outputs": [],
   "source": [
    "epoch = 20"
   ]
  },
  {
   "cell_type": "code",
   "execution_count": 9,
   "metadata": {},
   "outputs": [],
   "source": [
    "learning_rate = 0.1"
   ]
  },
  {
   "cell_type": "code",
   "execution_count": 10,
   "metadata": {},
   "outputs": [],
   "source": [
    "inputlayer_neurons = 2"
   ]
  },
  {
   "cell_type": "code",
   "execution_count": 11,
   "metadata": {},
   "outputs": [],
   "source": [
    "hiddenlayer_neurons = 3"
   ]
  },
  {
   "cell_type": "code",
   "execution_count": 12,
   "metadata": {},
   "outputs": [],
   "source": [
    "outputlayer_neurons = 1"
   ]
  },
  {
   "cell_type": "code",
   "execution_count": 13,
   "metadata": {},
   "outputs": [],
   "source": [
    "# Weight of hidden layer\n",
    "wh = np.random.uniform(size=(inputlayer_neurons, hiddenlayer_neurons))"
   ]
  },
  {
   "cell_type": "code",
   "execution_count": 14,
   "metadata": {},
   "outputs": [],
   "source": [
    "# Bias of hidden layer\n",
    "bh = np.random.uniform(size=(1, hiddenlayer_neurons))"
   ]
  },
  {
   "cell_type": "code",
   "execution_count": 15,
   "metadata": {},
   "outputs": [],
   "source": [
    "# Weight of output layer\n",
    "wo = np.random.uniform(size=(hiddenlayer_neurons, outputlayer_neurons))"
   ]
  },
  {
   "cell_type": "code",
   "execution_count": 16,
   "metadata": {},
   "outputs": [],
   "source": [
    "# Bias of output layer\n",
    "bo = np.random.uniform(size=(1, outputlayer_neurons))"
   ]
  },
  {
   "cell_type": "code",
   "execution_count": 17,
   "metadata": {},
   "outputs": [
    {
     "name": "stdout",
     "output_type": "stream",
     "text": [
      "Epoch -> 0, lrate -> 0.1, error -> [4.27781924e-05]\n",
      "Epoch -> 1, lrate -> 0.1, error -> [4.1955916e-05]\n",
      "Epoch -> 2, lrate -> 0.1, error -> [4.11523516e-05]\n",
      "Epoch -> 3, lrate -> 0.1, error -> [4.03669938e-05]\n",
      "Epoch -> 4, lrate -> 0.1, error -> [3.95993531e-05]\n",
      "Epoch -> 5, lrate -> 0.1, error -> [3.88489554e-05]\n",
      "Epoch -> 6, lrate -> 0.1, error -> [3.81153415e-05]\n",
      "Epoch -> 7, lrate -> 0.1, error -> [3.73980666e-05]\n",
      "Epoch -> 8, lrate -> 0.1, error -> [3.66966997e-05]\n",
      "Epoch -> 9, lrate -> 0.1, error -> [3.60108229e-05]\n",
      "Epoch -> 10, lrate -> 0.1, error -> [3.53400314e-05]\n",
      "Epoch -> 11, lrate -> 0.1, error -> [3.46839326e-05]\n",
      "Epoch -> 12, lrate -> 0.1, error -> [3.40421461e-05]\n",
      "Epoch -> 13, lrate -> 0.1, error -> [3.34143027e-05]\n",
      "Epoch -> 14, lrate -> 0.1, error -> [3.28000446e-05]\n",
      "Epoch -> 15, lrate -> 0.1, error -> [3.21990247e-05]\n",
      "Epoch -> 16, lrate -> 0.1, error -> [3.16109061e-05]\n",
      "Epoch -> 17, lrate -> 0.1, error -> [3.1035362e-05]\n",
      "Epoch -> 18, lrate -> 0.1, error -> [3.04720754e-05]\n",
      "Epoch -> 19, lrate -> 0.1, error -> [2.99207386e-05]\n"
     ]
    }
   ],
   "source": [
    "# training\n",
    "for i in range(epoch):\n",
    "    # Sum of (input * weights in hidden layer) + bias of hidden\n",
    "    net_h = np.dot(X, wh) + bh\n",
    "    # Apply Activation Function\n",
    "    sigma_h = sigmoid(net_h)\n",
    "    # Input to O/P Layer = (O/P of Hidden Layer * weight of O/P Layer) + bias of O/P layer\n",
    "    net_o = np.dot(sigma_h, wo) + bo\n",
    "    # Apply Activation Function\n",
    "    output = sigmoid(net_o)\n",
    "    \n",
    "    # Finding Deltas (Cost Function Implementation)\n",
    "    # Delta of O/P layer\n",
    "    deltaK = (y - output) * derivatives_sigmoid(output)\n",
    "    # Delta of Hidden Layer\n",
    "    deltaH = deltaK.dot(wo.T) * derivatives_sigmoid(sigma_h)\n",
    "    # Update the weights\n",
    "    wo = wo + sigma_h.T.dot(deltaK) * learning_rate\n",
    "    wh = wh + X.T.dot(deltaH) * learning_rate\n",
    "    \n",
    "    error = sum(deltaK)**2 / len(deltaK)\n",
    "    \n",
    "    print('Epoch -> {0}, lrate -> {1}, error -> {2}'.format(i, learning_rate, error))"
   ]
  },
  {
   "cell_type": "code",
   "execution_count": 18,
   "metadata": {},
   "outputs": [
    {
     "name": "stdout",
     "output_type": "stream",
     "text": [
      "Input: \n",
      " [[0.66666667 1.        ]\n",
      " [0.33333333 0.55555556]\n",
      " [1.         0.66666667]]\n"
     ]
    }
   ],
   "source": [
    "print(\"Input: \\n \" + str(X))"
   ]
  },
  {
   "cell_type": "code",
   "execution_count": 19,
   "metadata": {},
   "outputs": [
    {
     "name": "stdout",
     "output_type": "stream",
     "text": [
      "Actual Output: \n",
      "[[0.92]\n",
      " [0.86]\n",
      " [0.89]]\n"
     ]
    }
   ],
   "source": [
    "print(\"Actual Output: \\n\" + str(y))"
   ]
  },
  {
   "cell_type": "code",
   "execution_count": 44,
   "metadata": {},
   "outputs": [
    {
     "name": "stdout",
     "output_type": "stream",
     "text": [
      "Predicted Output: \n",
      " [[0.8071537 ]\n",
      " [0.79098142]\n",
      " [0.80127179]]\n"
     ]
    }
   ],
   "source": [
    "print(\"Predicted Output: \\n\", output)"
   ]
  },
  {
   "cell_type": "code",
   "execution_count": null,
   "metadata": {},
   "outputs": [],
   "source": []
  },
  {
   "cell_type": "code",
   "execution_count": null,
   "metadata": {},
   "outputs": [],
   "source": []
  }
 ],
 "metadata": {
  "kernelspec": {
   "display_name": "Python 3",
   "language": "python",
   "name": "python3"
  },
  "language_info": {
   "codemirror_mode": {
    "name": "ipython",
    "version": 3
   },
   "file_extension": ".py",
   "mimetype": "text/x-python",
   "name": "python",
   "nbconvert_exporter": "python",
   "pygments_lexer": "ipython3",
   "version": "3.6.5"
  }
 },
 "nbformat": 4,
 "nbformat_minor": 2
}
